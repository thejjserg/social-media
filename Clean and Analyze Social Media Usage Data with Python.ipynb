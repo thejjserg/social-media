{
 "cells": [
  {
   "cell_type": "markdown",
   "id": "10b5416c",
   "metadata": {},
   "source": [
    "# Clean & Analyze Social Media\n",
    "\n",
    "## Introduction\n",
    "\n",
    "Social media has become a ubiquitous part of modern life, with platforms such as Instagram, Twitter, and Facebook serving as essential communication channels. Social media data sets are vast and complex, making analysis a challenging task for businesses and researchers alike. In this project, we explore a simulated social media, for example Tweets, data set to understand trends in likes across different categories.\n",
    "\n",
    "## Prerequisites\n",
    "\n",
    "To follow along with this project, you should have a basic understanding of Python programming and data analysis concepts. In addition, you may want to use the following packages in your Python environment:\n",
    "\n",
    "- pandas\n",
    "- Matplotlib\n",
    "\n",
    "These packages should already be installed in Coursera's Jupyter Notebook environment, however if you'd like to install additional packages that are not included in this environment or are working off platform you can install additional packages using `!pip install packagename` within a notebook cell such as:\n",
    "\n",
    "- `!pip install pandas`\n",
    "- `!pip install matplotlib`\n",
    "\n",
    "## Project Scope\n",
    "\n",
    "The objective of this project is to analyze tweets (or other social media data) and gain insights into user engagement. We will explore the data set using visualization techniques to understand the distribution of likes across different categories. Finally, we will analyze the data to draw conclusions about the most popular categories and the overall engagement on the platform.\n",
    "\n",
    "## Step 1: Importing Required Libraries\n",
    "\n",
    "As the name suggests, the first step is to import all the necessary libraries that will be used in the project. In this case, we need pandas, numpy, matplotlib, seaborn, and random libraries.\n",
    "\n",
    "Pandas is a library used for data manipulation and analysis. Numpy is a library used for numerical computations. Matplotlib is a library used for data visualization. Seaborn is a library used for statistical data visualization. Random is a library used to generate random numbers."
   ]
  },
  {
   "cell_type": "code",
   "execution_count": 1,
   "id": "b2196fb9",
   "metadata": {},
   "outputs": [],
   "source": [
    "import csv # Python library used for reading and writing tabular data in CSV format.\n",
    "import pandas as pd # Python library used for working with data sets. It has functions for analyzing, cleaning, exploring, and manipulating data. \n",
    "import json # Python library for encoding and decoding custom objects by using JSON encoder and decoder classes.\n",
    "import numpy as np # Python library for adding support to large, multi-dimensional arrays and matrices, along with a large collection of high-level mathematical functions to operate on these arrays.\n",
    "import seaborn as sns #Python library for statistical visualizations\n",
    "import statistics as stat #Python library for statistical operations\n",
    "import matplotlib.pyplot as plt # Python library for creating graphs\n",
    "import random # Python library for generating random data\n",
    "\n",
    "from scipy import stats # Python library for linear regression"
   ]
  },
  {
   "cell_type": "code",
   "execution_count": 24,
   "id": "71d508b4",
   "metadata": {},
   "outputs": [],
   "source": [
    "# Define a List of Social Media Categories\n",
    "categories = [\"Food\", \"Travel\", \"Fashion\", \"Fitness\", \"Music\", \"Culture\", \"Family\", \"Health\"]\n",
    "\n",
    "# Create Random Data for the Project\n",
    "random.seed(4) # Set the seed for generating the same random data.\n",
    "data = {\"Date\":pd.date_range(\"2023-01-01\", periods = 500),\n",
    "       \"Category\":[random.choice(categories) for i in range(500)],\n",
    "       \"Likes\":np.random.randint(0, 10000, size = 500)}"
   ]
  },
  {
   "cell_type": "code",
   "execution_count": 25,
   "id": "8a5c36da",
   "metadata": {},
   "outputs": [],
   "source": [
    "# Create a DataFrame from the data dictionary\n",
    "df = pd.DataFrame(data)"
   ]
  },
  {
   "cell_type": "code",
   "execution_count": 26,
   "id": "bea34de8",
   "metadata": {},
   "outputs": [
    {
     "data": {
      "text/html": [
       "<div>\n",
       "<style scoped>\n",
       "    .dataframe tbody tr th:only-of-type {\n",
       "        vertical-align: middle;\n",
       "    }\n",
       "\n",
       "    .dataframe tbody tr th {\n",
       "        vertical-align: top;\n",
       "    }\n",
       "\n",
       "    .dataframe thead th {\n",
       "        text-align: right;\n",
       "    }\n",
       "</style>\n",
       "<table border=\"1\" class=\"dataframe\">\n",
       "  <thead>\n",
       "    <tr style=\"text-align: right;\">\n",
       "      <th></th>\n",
       "      <th>Date</th>\n",
       "      <th>Category</th>\n",
       "      <th>Likes</th>\n",
       "    </tr>\n",
       "  </thead>\n",
       "  <tbody>\n",
       "    <tr>\n",
       "      <th>0</th>\n",
       "      <td>2023-01-01</td>\n",
       "      <td>Fitness</td>\n",
       "      <td>4836</td>\n",
       "    </tr>\n",
       "    <tr>\n",
       "      <th>1</th>\n",
       "      <td>2023-01-02</td>\n",
       "      <td>Music</td>\n",
       "      <td>520</td>\n",
       "    </tr>\n",
       "    <tr>\n",
       "      <th>2</th>\n",
       "      <td>2023-01-03</td>\n",
       "      <td>Travel</td>\n",
       "      <td>2941</td>\n",
       "    </tr>\n",
       "    <tr>\n",
       "      <th>3</th>\n",
       "      <td>2023-01-04</td>\n",
       "      <td>Family</td>\n",
       "      <td>7048</td>\n",
       "    </tr>\n",
       "    <tr>\n",
       "      <th>4</th>\n",
       "      <td>2023-01-05</td>\n",
       "      <td>Health</td>\n",
       "      <td>5147</td>\n",
       "    </tr>\n",
       "  </tbody>\n",
       "</table>\n",
       "</div>"
      ],
      "text/plain": [
       "        Date Category  Likes\n",
       "0 2023-01-01  Fitness   4836\n",
       "1 2023-01-02    Music    520\n",
       "2 2023-01-03   Travel   2941\n",
       "3 2023-01-04   Family   7048\n",
       "4 2023-01-05   Health   5147"
      ]
     },
     "execution_count": 26,
     "metadata": {},
     "output_type": "execute_result"
    }
   ],
   "source": [
    "# Review the Head of the DataFrame\n",
    "df.head()"
   ]
  },
  {
   "cell_type": "code",
   "execution_count": 27,
   "id": "aa9adc00",
   "metadata": {},
   "outputs": [
    {
     "name": "stdout",
     "output_type": "stream",
     "text": [
      "Category\n",
      "Music      74\n",
      "Fitness    65\n",
      "Travel     62\n",
      "Fashion    62\n",
      "Food       61\n",
      "Culture    61\n",
      "Family     60\n",
      "Health     55\n",
      "Name: count, dtype: int64\n"
     ]
    }
   ],
   "source": [
    "# Create a table showing the category counts\n",
    "category_counts = df.Category.value_counts()\n",
    "print(category_counts)"
   ]
  },
  {
   "cell_type": "code",
   "execution_count": 10,
   "id": "14835a79",
   "metadata": {},
   "outputs": [
    {
     "name": "stdout",
     "output_type": "stream",
     "text": [
      "[81, 14, 3, 94, 35]\n",
      "[31, 28, 17, 94, 13]\n"
     ]
    }
   ],
   "source": [
    "# Set the seed once at the beginning\n",
    "random.seed(42)\n",
    "\n",
    "# Later in the script, random functions will still use the same seed\n",
    "random_numbers1 = [random.randint(0, 100) for _ in range(5)]\n",
    "random_numbers2 = [random.randint(0, 100) for _ in range(5)]\n",
    "\n",
    "print(random_numbers1)  # Same output every time you run the notebook\n",
    "print(random_numbers2) "
   ]
  },
  {
   "cell_type": "code",
   "execution_count": 12,
   "id": "822fde0c",
   "metadata": {},
   "outputs": [
    {
     "name": "stdout",
     "output_type": "stream",
     "text": [
      "[81, 14, 3, 94, 35]\n",
      "[31, 28, 17, 94, 13]\n"
     ]
    }
   ],
   "source": [
    "# Set the seed once at the beginning\n",
    "random.seed(42)\n",
    "\n",
    "# Later in the script, random functions will still use the same seed\n",
    "random_numbers1 = [random.randint(0, 100) for _ in range(5)]\n",
    "random_numbers2 = [random.randint(0, 100) for _ in range(5)]\n",
    "\n",
    "print(random_numbers1)  # Same output every time you run the notebook\n",
    "print(random_numbers2) "
   ]
  }
 ],
 "metadata": {
  "kernelspec": {
   "display_name": "Python 3 (ipykernel)",
   "language": "python",
   "name": "python3"
  },
  "language_info": {
   "codemirror_mode": {
    "name": "ipython",
    "version": 3
   },
   "file_extension": ".py",
   "mimetype": "text/x-python",
   "name": "python",
   "nbconvert_exporter": "python",
   "pygments_lexer": "ipython3",
   "version": "3.11.5"
  }
 },
 "nbformat": 4,
 "nbformat_minor": 5
}
